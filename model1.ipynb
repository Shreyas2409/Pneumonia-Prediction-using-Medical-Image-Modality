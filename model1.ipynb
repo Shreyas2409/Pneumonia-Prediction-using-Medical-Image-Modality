{
  "nbformat": 4,
  "nbformat_minor": 0,
  "metadata": {
    "colab": {
      "name": "model1.ipynb",
      "provenance": [],
      "collapsed_sections": [],
      "toc_visible": true,
      "authorship_tag": "ABX9TyPiy+RtFpcdkD/s2r/03+Ga",
      "include_colab_link": true
    },
    "kernelspec": {
      "name": "python3",
      "display_name": "Python 3"
    }
  },
  "cells": [
    {
      "cell_type": "markdown",
      "metadata": {
        "id": "view-in-github",
        "colab_type": "text"
      },
      "source": [
        "<a href=\"https://colab.research.google.com/github/Shreyas2409/Pneumonia-Prediction-using-Medical-Image-Modality/blob/master/model1.ipynb\" target=\"_parent\"><img src=\"https://colab.research.google.com/assets/colab-badge.svg\" alt=\"Open In Colab\"/></a>"
      ]
    },
    {
      "cell_type": "code",
      "metadata": {
        "id": "ygC3OX-7b0U5",
        "colab_type": "code",
        "colab": {}
      },
      "source": [
        "!pip install tensorflow\n",
        "!pip install keras\n",
        "\n"
      ],
      "execution_count": 0,
      "outputs": []
    },
    {
      "cell_type": "code",
      "metadata": {
        "id": "sRJzm7iKCdxD",
        "colab_type": "code",
        "outputId": "25574492-e0eb-437d-aa93-bad9bc861940",
        "colab": {
          "base_uri": "https://localhost:8080/",
          "height": 340
        }
      },
      "source": [
        "!pip install tensorflow==2.0.0-alpha0 "
      ],
      "execution_count": 0,
      "outputs": [
        {
          "output_type": "stream",
          "text": [
            "Requirement already satisfied: tensorflow==2.0.0-alpha0 in /usr/local/lib/python3.6/dist-packages (2.0.0a0)\n",
            "Requirement already satisfied: google-pasta>=0.1.2 in /usr/local/lib/python3.6/dist-packages (from tensorflow==2.0.0-alpha0) (0.1.8)\n",
            "Requirement already satisfied: astor>=0.6.0 in /usr/local/lib/python3.6/dist-packages (from tensorflow==2.0.0-alpha0) (0.8.1)\n",
            "Requirement already satisfied: grpcio>=1.8.6 in /usr/local/lib/python3.6/dist-packages (from tensorflow==2.0.0-alpha0) (1.27.1)\n",
            "Requirement already satisfied: keras-preprocessing>=1.0.5 in /usr/local/lib/python3.6/dist-packages (from tensorflow==2.0.0-alpha0) (1.1.0)\n",
            "Requirement already satisfied: tb-nightly<1.14.0a20190302,>=1.14.0a20190301 in /usr/local/lib/python3.6/dist-packages (from tensorflow==2.0.0-alpha0) (1.14.0a20190301)\n",
            "Requirement already satisfied: termcolor>=1.1.0 in /usr/local/lib/python3.6/dist-packages (from tensorflow==2.0.0-alpha0) (1.1.0)\n",
            "Requirement already satisfied: keras-applications>=1.0.6 in /usr/local/lib/python3.6/dist-packages (from tensorflow==2.0.0-alpha0) (1.0.8)\n",
            "Requirement already satisfied: absl-py>=0.7.0 in /usr/local/lib/python3.6/dist-packages (from tensorflow==2.0.0-alpha0) (0.9.0)\n",
            "Requirement already satisfied: gast>=0.2.0 in /usr/local/lib/python3.6/dist-packages (from tensorflow==2.0.0-alpha0) (0.2.2)\n",
            "Requirement already satisfied: protobuf>=3.6.1 in /usr/local/lib/python3.6/dist-packages (from tensorflow==2.0.0-alpha0) (3.10.0)\n",
            "Requirement already satisfied: six>=1.10.0 in /usr/local/lib/python3.6/dist-packages (from tensorflow==2.0.0-alpha0) (1.12.0)\n",
            "Requirement already satisfied: tf-estimator-nightly<1.14.0.dev2019030116,>=1.14.0.dev2019030115 in /usr/local/lib/python3.6/dist-packages (from tensorflow==2.0.0-alpha0) (1.14.0.dev2019030115)\n",
            "Requirement already satisfied: numpy<2.0,>=1.14.5 in /usr/local/lib/python3.6/dist-packages (from tensorflow==2.0.0-alpha0) (1.17.5)\n",
            "Requirement already satisfied: wheel>=0.26 in /usr/local/lib/python3.6/dist-packages (from tensorflow==2.0.0-alpha0) (0.34.2)\n",
            "Requirement already satisfied: markdown>=2.6.8 in /usr/local/lib/python3.6/dist-packages (from tb-nightly<1.14.0a20190302,>=1.14.0a20190301->tensorflow==2.0.0-alpha0) (3.2.1)\n",
            "Requirement already satisfied: werkzeug>=0.11.15 in /usr/local/lib/python3.6/dist-packages (from tb-nightly<1.14.0a20190302,>=1.14.0a20190301->tensorflow==2.0.0-alpha0) (1.0.0)\n",
            "Requirement already satisfied: h5py in /usr/local/lib/python3.6/dist-packages (from keras-applications>=1.0.6->tensorflow==2.0.0-alpha0) (2.8.0)\n",
            "Requirement already satisfied: setuptools in /usr/local/lib/python3.6/dist-packages (from protobuf>=3.6.1->tensorflow==2.0.0-alpha0) (45.1.0)\n"
          ],
          "name": "stdout"
        }
      ]
    },
    {
      "cell_type": "code",
      "metadata": {
        "id": "JrroSJp3b1iX",
        "colab_type": "code",
        "colab": {}
      },
      "source": [
        "from keras.layers import Input,Lambda,Dense,Flatten\n",
        "from keras.models import Model\n",
        "from keras.applications.vgg16 import VGG16\n",
        "from keras.applications.resnet50 import ResNet50\n",
        "from keras.applications.vgg16 import preprocess_input\n",
        "from keras.preprocessing import image\n",
        "from keras.preprocessing.image import ImageDataGenerator\n",
        "from keras.models import Sequential\n",
        "from keras import optimizers\n",
        "import tensorflow as tf \n",
        "import numpy as np\n",
        "import os\n",
        "\n",
        "\n"
      ],
      "execution_count": 0,
      "outputs": []
    },
    {
      "cell_type": "code",
      "metadata": {
        "id": "ZOi4wog6LgK3",
        "colab_type": "code",
        "colab": {}
      },
      "source": [
        "\n",
        "class VGG16Extended :\n",
        "\n",
        "  def __init__(self):\n",
        "    self.base_model = VGG16(weights = 'imagenet', include_top = False)\n",
        "  \n",
        "  def custom_global_average_pooling2D(self, extended_model):\n",
        "    return GlobalAveragePooling2D()(extended_model)\n",
        "  \n",
        "  def add_dense_layer_nn(self, extended_model, **kwargs):\n",
        "    return Dense(units = kwargs[\"units\"], activation =  kwargs[\"activation\"])(extended_model)\n",
        "  \n",
        "  def add_dropout_layer_nn(self, extended_model, units = 0.5):\n",
        "    return Dropout(units)(extended_model)\n",
        "  \n",
        "  def __extend_vgg16_base(self):\n",
        "     extended_model = self.base_model.output #grab the outputs of VGG16 \n",
        "     extended_model = self.custom_global_average_pooling2D(extended_model)\n",
        "     extended_model = self.add_dense_layer_nn(extended_model, units = 512, activation = \"relu\")\n",
        "     extended_model = self.add_dropout_layer_nn(extended_model)\n",
        "     extended_model = self.add_dense_layer_nn(extended_model, units = 64, activation = \"relu\")\n",
        "     extended_model = self.add_dense_layer_nn(extended_model, units = 2, activation = 'sigmoid')\n",
        "\n",
        "     return Model(inputs = self.base_model.input, outputs = extended_model)\n",
        "    \n",
        "  def compile(self):\n",
        "    model = self.__extend_vgg16_base()\n",
        "    model.compile(\n",
        "        loss = \"categorical_crossentropy\",\n",
        "        optimizer = optimizers.SGD(lr = 1e-4, momentum = 0.9),\n",
        "        metrics = ['accuracy']\n",
        "    )\n"
      ],
      "execution_count": 0,
      "outputs": []
    },
    {
      "cell_type": "code",
      "metadata": {
        "id": "jBCnvFkFLdty",
        "colab_type": "code",
        "colab": {}
      },
      "source": [
        "\n",
        "\n",
        "img_width, img_height = 250, 250\n",
        "train_data = 'home/shreyas/Desktop/Pneumonia-Predirediction-using-Medical-Image-Modality/chest_xray/train'\n",
        "test_data = 'home/shreyas/Desktop/Pneumonia-Predirediction-using-Medical-Image-Modality/chest_xray/test'\n",
        "val_data = 'home/shreyas/Desktop/Pneumonia-Predirediction-using-Medical-Image-Modality/chest_xray/val'\n",
        "\n",
        "from keras.preprocessing.image import ImageDataGenerator\n",
        "train_datagen = ImageDataGenerator(\n",
        "    rescale=1. / 255,\n",
        "    shear_range=0.2,\n",
        "    zoom_range=0.2,\n",
        "    horizontal_flip=True)\n",
        "\n",
        "test_datagen = ImageDataGenerator(rescale=1. / 255)\n",
        "val_datagen = ImageDataGenerator(rescale=1. / 255)\n",
        "\n",
        "train_generator = train_datagen.flow_from_directory(\n",
        "    train_data,\n",
        "    target_size=(224, 224),\n",
        "    batch_size=16,\n",
        "    class_mode='categorical')\n",
        "\n",
        "test_generator = test_datagen.flow_from_directory(\n",
        "    test_data,\n",
        "    target_size=(224, 224),\n",
        "    batch_size=16,\n",
        "    class_mode='categorical')\n",
        "\n",
        "validation_generator = val_datagen.flow_from_directory(\n",
        "    val_data,\n",
        "    target_size=(224, 224),\n",
        "    batch_size=16,\n",
        "    class_mode='categorical')\n",
        "\n",
        "\n",
        "# GPU scheduling \n",
        "with tf.device(\"/device:GPU:0\"):\n",
        "   # on GPU 0\n",
        "   model = VGG16Extended().compile()\n",
        "   history_buffer = model.fit_generator(\n",
        "       train_generator,\n",
        "       epochs = 20, shuffle = True, verbose = 1, validation_data = test_generator\n",
        "   )\n"
      ],
      "execution_count": 0,
      "outputs": []
    },
    {
      "cell_type": "markdown",
      "metadata": {
        "id": "VLcDe95zPUiS",
        "colab_type": "text"
      },
      "source": [
        "# New Section"
      ]
    }
  ]
}